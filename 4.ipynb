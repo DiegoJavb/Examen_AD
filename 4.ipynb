{
 "cells": [
  {
   "cell_type": "code",
   "execution_count": 4,
   "metadata": {},
   "outputs": [],
   "source": [
    "import pymongo\n",
    "from pymongo import MongoClient\n",
    "import mysql.connector"
   ]
  },
  {
   "cell_type": "code",
   "execution_count": 5,
   "metadata": {},
   "outputs": [
    {
     "name": "stdout",
     "output_type": "stream",
     "text": [
      "MongoDB connection: Success\n"
     ]
    }
   ],
   "source": [
    "#cliente local de mongo compas\n",
    "client = MongoClient('mongodb://localhost:27017')\n",
    "try:\n",
    "    client.admin.command('ismaster')\n",
    "    print('MongoDB connection: Success')\n",
    "except ConnectionFailure as cf:\n",
    "    print('MongoDB connection: failed', cf)\n",
    "#DBS = ['libros']"
   ]
  },
  {
   "cell_type": "code",
   "execution_count": null,
   "metadata": {},
   "outputs": [],
   "source": [
    "#coneccion con mysql\n",
    "mydb = mysql.connector.connect()"
   ]
  }
 ],
 "metadata": {
  "kernelspec": {
   "display_name": "Python 3",
   "language": "python",
   "name": "python3"
  },
  "language_info": {
   "codemirror_mode": {
    "name": "ipython",
    "version": 3
   },
   "file_extension": ".py",
   "mimetype": "text/x-python",
   "name": "python",
   "nbconvert_exporter": "python",
   "pygments_lexer": "ipython3",
   "version": "3.8.2"
  }
 },
 "nbformat": 4,
 "nbformat_minor": 4
}
